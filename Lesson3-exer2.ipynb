{
 "cells": [
  {
   "cell_type": "markdown",
   "id": "38688631",
   "metadata": {},
   "source": [
    "# Lesson 3 Exercise 2: Focus on Primary Key"
   ]
  },
  {
   "cell_type": "markdown",
   "id": "19cf74ca",
   "metadata": {},
   "source": [
    "### Walk through the basics of creating a table with a good Primary Key in Apache Cassandra, inserting rows of data, and doing a simple CQL query to validate the information. \n",
    "\n",
    "### Replace ##### with your own answers. "
   ]
  },
  {
   "cell_type": "markdown",
   "id": "50281e06",
   "metadata": {},
   "source": [
    "#### We will use a python wrapper/ python driver called cassandra to run the Apache Cassandra queries. This library should be preinstalled but in the future to install this library you can run this command in a notebook to install locally: \n",
    "! pip install cassandra-driver\n",
    "#### More documentation can be found here:  https://datastax.github.io/python-driver/"
   ]
  },
  {
   "cell_type": "markdown",
   "id": "6e5c65a9",
   "metadata": {},
   "source": [
    "#### Import Apache Cassandra python package\n"
   ]
  },
  {
   "cell_type": "code",
   "execution_count": 1,
   "id": "f84bcab4",
   "metadata": {},
   "outputs": [],
   "source": [
    "import cassandra"
   ]
  },
  {
   "cell_type": "markdown",
   "id": "9a1ed832",
   "metadata": {},
   "source": [
    "### Create a connection to the database\n"
   ]
  },
  {
   "cell_type": "code",
   "execution_count": null,
   "id": "d95e8c65",
   "metadata": {},
   "outputs": [],
   "source": [
    "from cassandra.cluster import Cluster\n",
    "try: \n",
    "    cluster = Cluster(['127.0.0.1']) #If you have a locally installed Apache Cassandra instance\n",
    "    session = cluster.connect()\n",
    "except Exception as e:\n",
    "    print(e)"
   ]
  },
  {
   "cell_type": "markdown",
   "id": "8abfa534",
   "metadata": {},
   "source": [
    "### Create a keyspace to work in \n"
   ]
  },
  {
   "cell_type": "code",
   "execution_count": null,
   "id": "dbe958c7",
   "metadata": {},
   "outputs": [],
   "source": [
    "try:\n",
    "    session.execute(\"\"\"\n",
    "    CREATE KEYSPACE IF NOT EXISTS udacity \n",
    "    WITH REPLICATION = \n",
    "    { 'class' : 'SimpleStrategy', 'replication_factor' : 1 }\"\"\"\n",
    ")\n",
    "\n",
    "except Exception as e:\n",
    "    print(e)"
   ]
  },
  {
   "cell_type": "markdown",
   "id": "aec819eb",
   "metadata": {},
   "source": [
    "#### Connect to the Keyspace. Compare this to how we had to create a new session in PostgreSQL.  "
   ]
  },
  {
   "cell_type": "code",
   "execution_count": null,
   "id": "22d8f82a",
   "metadata": {},
   "outputs": [],
   "source": [
    "try:\n",
    "    session.set_keyspace('udacity')\n",
    "except Exception as e:\n",
    "    print(e)"
   ]
  },
  {
   "cell_type": "markdown",
   "id": "aef1e91c",
   "metadata": {},
   "source": [
    "### Imagine you need to create a new Music Library of albums \n",
    "\n",
    "### Here is the information asked of the data:\n",
    "#### 1. Give every album in the music library that was created by a given artist\n",
    "`select * from music_library WHERE artist_name=\"The Beatles\"`\n"
   ]
  },
  {
   "cell_type": "markdown",
   "id": "1388427e",
   "metadata": {},
   "source": [
    "### Here is the collection of data\n",
    "<img src=\"images/table3.png\" width=\"650\" height=\"350\">"
   ]
  },
  {
   "cell_type": "markdown",
   "id": "c9a75535",
   "metadata": {},
   "source": [
    "#### Practice by making the PRIMARY KEY only 1 Column (not 2 or more)"
   ]
  },
  {
   "cell_type": "code",
   "execution_count": null,
   "id": "0f389660",
   "metadata": {},
   "outputs": [],
   "source": [
    "query = \"CREATE TABLE IF NOT EXISTS ##### \"\n",
    "query = query + \"(##### PRIMARY KEY (#####))\"\n",
    "try:\n",
    "    session.execute(query)\n",
    "except Exception as e:\n",
    "    print(e)"
   ]
  },
  {
   "cell_type": "markdown",
   "id": "0707bb84",
   "metadata": {},
   "source": [
    "### Let's insert the data into the table"
   ]
  },
  {
   "cell_type": "code",
   "execution_count": null,
   "id": "ab73e421",
   "metadata": {},
   "outputs": [],
   "source": [
    "query = \"INSERT INTO ##### (year, artist_name, album_name, city)\"\n",
    "query = query + \" VALUES (%s, %s, %s, %s)\"\n",
    "\n",
    "try:\n",
    "    session.execute(query, (1970, \"The Beatles\", \"Let it Be\", \"Liverpool\"))\n",
    "except Exception as e:\n",
    "    print(e)\n",
    "    \n",
    "try:\n",
    "    session.execute(query, (1965, \"The Beatles\", \"Rubber Soul\", \"Oxford\"))\n",
    "except Exception as e:\n",
    "    print(e)\n",
    "    \n",
    "try:\n",
    "    session.execute(query, (1965, \"The Who\", \"My Generation\", \"London\"))\n",
    "except Exception as e:\n",
    "    print(e)\n",
    "\n",
    "try:\n",
    "    session.execute(query, (1966, \"The Monkees\", \"The Monkees\", \"Los Angeles\"))\n",
    "except Exception as e:\n",
    "    print(e)\n",
    "\n",
    "try:\n",
    "    session.execute(query, (1970, \"The Carpenters\", \"Close To You\", \"San Diego\"))\n",
    "except Exception as e:\n",
    "    print(e)"
   ]
  },
  {
   "cell_type": "markdown",
   "id": "c507ff96",
   "metadata": {},
   "source": [
    "### Validate the Data Model -- Does it give you two rows?\n"
   ]
  },
  {
   "cell_type": "code",
   "execution_count": null,
   "id": "b65375ca",
   "metadata": {},
   "outputs": [],
   "source": [
    "query = \"select * from ##### WHERE #####\"\n",
    "try:\n",
    "    rows = session.execute(query)\n",
    "except Exception as e:\n",
    "    print(e)\n",
    "    \n",
    "for row in rows:\n",
    "    print (row.year, row.artist_name, row.album_name, row.city)"
   ]
  },
  {
   "cell_type": "markdown",
   "id": "a85024c6",
   "metadata": {},
   "source": [
    "### If you used just one column as your PRIMARY KEY, your output should be:\n",
    "1965 The Beatles Rubber Soul Oxford\n",
    "\n",
    "\n",
    "### That didn't work out as planned! Why is that?  Did you create a unique primary key?"
   ]
  },
  {
   "cell_type": "markdown",
   "id": "b1063f26",
   "metadata": {},
   "source": [
    "### Try again - Create a new table with a composite key this time"
   ]
  },
  {
   "cell_type": "code",
   "execution_count": null,
   "id": "be20e540",
   "metadata": {},
   "outputs": [],
   "source": [
    "query = \"CREATE TABLE IF NOT EXISTS ##### \"\n",
    "query = query + \"(#####)\"\n",
    "try:\n",
    "    session.execute(query)\n",
    "except Exception as e:\n",
    "    print(e)"
   ]
  },
  {
   "cell_type": "code",
   "execution_count": null,
   "id": "d6165a06",
   "metadata": {},
   "outputs": [],
   "source": [
    "## You can opt to change the sequence of columns to match your composite key. \\ \n",
    "## Make sure to match the values in the INSERT statement\n",
    "\n",
    "query = \"INSERT INTO ##### (year, artist_name, album_name, city)\"\n",
    "query = query + \" VALUES (%s, %s, %s, %s)\"\n",
    "\n",
    "try:\n",
    "    session.execute(query, (1970, \"The Beatles\", \"Let it Be\", \"Liverpool\"))\n",
    "except Exception as e:\n",
    "    print(e)\n",
    "    \n",
    "try:\n",
    "    session.execute(query, (1965, \"The Beatles\", \"Rubber Soul\", \"Oxford\"))\n",
    "except Exception as e:\n",
    "    print(e)\n",
    "    \n",
    "try:\n",
    "    session.execute(query, (1965, \"The Who\", \"My Generation\", \"London\"))\n",
    "except Exception as e:\n",
    "    print(e)\n",
    "\n",
    "try:\n",
    "    session.execute(query, (1966, \"The Monkees\", \"The Monkees\", \"Los Angeles\"))\n",
    "except Exception as e:\n",
    "    print(e)\n",
    "\n",
    "try:\n",
    "    session.execute(query, (1970, \"The Carpenters\", \"Close To You\", \"San Diego\"))\n",
    "except Exception as e:\n",
    "    print(e)"
   ]
  },
  {
   "cell_type": "markdown",
   "id": "52974d30",
   "metadata": {},
   "source": [
    "### Validate the Data Model -- Did it work?"
   ]
  },
  {
   "cell_type": "code",
   "execution_count": null,
   "id": "e780cb88",
   "metadata": {},
   "outputs": [],
   "source": [
    "query = \"#####\"\n",
    "try:\n",
    "    rows = session.execute(query)\n",
    "except Exception as e:\n",
    "    print(e)\n",
    "    \n",
    "for row in rows:\n",
    "    print (row.year, row.artist_name, row.album_name, row.city)"
   ]
  },
  {
   "cell_type": "markdown",
   "id": "e2aa3bb1",
   "metadata": {},
   "source": [
    "### Your output should be:\n",
    "1970 The Beatles Let it Be Liverpool<br>\n",
    "1965 The Beatles Rubber Soul Oxford"
   ]
  },
  {
   "cell_type": "markdown",
   "id": "b3516d69",
   "metadata": {},
   "source": [
    "### Drop the tables\n"
   ]
  },
  {
   "cell_type": "code",
   "execution_count": null,
   "id": "40cc9433",
   "metadata": {},
   "outputs": [],
   "source": [
    "query = \"#####\"\n",
    "try:\n",
    "    rows = session.execute(query)\n",
    "except Exception as e:\n",
    "    print(e)\n",
    "\n",
    "query = \"#####\"\n",
    "try:\n",
    "    rows = session.execute(query)\n",
    "except Exception as e:\n",
    "    print(e)"
   ]
  },
  {
   "cell_type": "markdown",
   "id": "e6c3eea1",
   "metadata": {},
   "source": [
    "### Close the session and cluster connection"
   ]
  },
  {
   "cell_type": "code",
   "execution_count": null,
   "id": "144d071e",
   "metadata": {},
   "outputs": [],
   "source": [
    "session.shutdown()\n",
    "cluster.shutdown()"
   ]
  }
 ],
 "metadata": {
  "kernelspec": {
   "display_name": "Python 3",
   "language": "python",
   "name": "python3"
  },
  "language_info": {
   "codemirror_mode": {
    "name": "ipython",
    "version": 3
   },
   "file_extension": ".py",
   "mimetype": "text/x-python",
   "name": "python",
   "nbconvert_exporter": "python",
   "pygments_lexer": "ipython3",
   "version": "3.8.8"
  }
 },
 "nbformat": 4,
 "nbformat_minor": 5
}
