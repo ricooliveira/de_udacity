{
 "cells": [
  {
   "cell_type": "code",
   "execution_count": 2,
   "id": "59f872d9",
   "metadata": {},
   "outputs": [],
   "source": [
    "import cassandra"
   ]
  },
  {
   "cell_type": "code",
   "execution_count": 11,
   "id": "797382df",
   "metadata": {},
   "outputs": [],
   "source": [
    "from cassandra.cluster import Cluster\n",
    "try:\n",
    "    cluster = Cluster(['127.0.0.1'])\n",
    "    session = cluster.connect()\n",
    "except Exception as e:\n",
    "    print(e)"
   ]
  },
  {
   "cell_type": "code",
   "execution_count": 15,
   "id": "22f35244",
   "metadata": {},
   "outputs": [],
   "source": [
    "try:\n",
    "    session.execute(\"\"\"select * from tutorial.posts\"\"\")\n",
    "except Exception as e:\n",
    "    print(e)"
   ]
  },
  {
   "cell_type": "markdown",
   "id": "4d20004d",
   "metadata": {},
   "source": [
    "### Keyspace (schema) creation"
   ]
  },
  {
   "cell_type": "code",
   "execution_count": 16,
   "id": "382a4765",
   "metadata": {},
   "outputs": [],
   "source": [
    "try:\n",
    "    session.execute(\"\"\"\n",
    "        CREATE KEYSPACE IF NOT EXISTS udacity\n",
    "        WITH REPLICATION = \n",
    "        {'class': 'SimpleStrategy', 'replication_factor': 1}\n",
    "    \"\"\")\n",
    "except Exception as e:\n",
    "    print(e)"
   ]
  },
  {
   "cell_type": "code",
   "execution_count": 17,
   "id": "8ed656aa",
   "metadata": {},
   "outputs": [],
   "source": [
    "try:\n",
    "    session.set_keyspace('udacity')\n",
    "except Exception as e:\n",
    "    print(e)"
   ]
  },
  {
   "cell_type": "markdown",
   "id": "213ece46",
   "metadata": {},
   "source": [
    "### Table creation"
   ]
  },
  {
   "cell_type": "code",
   "execution_count": 18,
   "id": "961b6cb7",
   "metadata": {},
   "outputs": [],
   "source": [
    "query = 'CREATE TABLE IF NOT EXISTS music_library '\n",
    "query += '(year int, artist_name text, album_name text, PRIMARY KEY (year, artist_name))'\n",
    "try:\n",
    "    session.execute(query)\n",
    "except Exception as e:\n",
    "    print(e)"
   ]
  },
  {
   "cell_type": "code",
   "execution_count": 27,
   "id": "98c10d1e",
   "metadata": {},
   "outputs": [
    {
     "name": "stdout",
     "output_type": "stream",
     "text": [
      "Error from server: code=2200 [Invalid query] message=\"table music_library does not exist\"\n",
      "Row(count=2)\n"
     ]
    }
   ],
   "source": [
    "query = 'SELECT count(*) from music_library'\n",
    "try:\n",
    "    count = session.execute(query)\n",
    "except Exception as e:\n",
    "    print(e)\n",
    "\n",
    "print(count.one())"
   ]
  },
  {
   "cell_type": "markdown",
   "id": "28ad0a3c",
   "metadata": {},
   "source": [
    "### Inserts"
   ]
  },
  {
   "cell_type": "code",
   "execution_count": 22,
   "id": "39864597",
   "metadata": {},
   "outputs": [],
   "source": [
    "query = 'INSERT INTO music_library (year, artist_name, album_name) '\n",
    "query += 'VALUES (%s, %s, %s)'\n",
    "try:\n",
    "    session.execute(query, (1970, 'Beatles', 'Let It Be'))\n",
    "except Exception as e:\n",
    "    print(e)\n",
    "    \n",
    "try:\n",
    "    session.execute(query, (1965, 'Beatles', 'Rubber Soul'))\n",
    "except Exception as e:\n",
    "    print(e)"
   ]
  },
  {
   "cell_type": "code",
   "execution_count": 24,
   "id": "e3410b21",
   "metadata": {},
   "outputs": [
    {
     "name": "stdout",
     "output_type": "stream",
     "text": [
      "1965 --> Beatles - Rubber Soul\n",
      "1970 --> Beatles - Let It Be\n"
     ]
    }
   ],
   "source": [
    "query = 'SELECT * from music_library'\n",
    "try:\n",
    "    rows = session.execute(query)\n",
    "except Exception as e:\n",
    "    print(e)\n",
    "\n",
    "for row in rows:\n",
    "    print(row.year, '-->', row.artist_name,'-',row.album_name)"
   ]
  },
  {
   "cell_type": "markdown",
   "id": "b903273f",
   "metadata": {},
   "source": [
    "### Query"
   ]
  },
  {
   "cell_type": "code",
   "execution_count": 25,
   "id": "bac0ac2b",
   "metadata": {},
   "outputs": [
    {
     "name": "stdout",
     "output_type": "stream",
     "text": [
      "1970 --> Beatles - Let It Be\n"
     ]
    }
   ],
   "source": [
    "query = 'SELECT * from music_library WHERE year = 1970'\n",
    "try:\n",
    "    rows = session.execute(query)\n",
    "except Exception as e:\n",
    "    print(e)\n",
    "    \n",
    "for row in rows:\n",
    "    print(row.year, '-->', row.artist_name,'-',row.album_name)"
   ]
  },
  {
   "cell_type": "markdown",
   "id": "07296973",
   "metadata": {},
   "source": [
    "### Drop table"
   ]
  },
  {
   "cell_type": "code",
   "execution_count": 26,
   "id": "575c802b",
   "metadata": {},
   "outputs": [],
   "source": [
    "query = 'DROP TABLE music_library'\n",
    "try:\n",
    "    session.execute(query)\n",
    "except Exception as e:\n",
    "    print(e)"
   ]
  },
  {
   "cell_type": "code",
   "execution_count": 28,
   "id": "0070d3b1",
   "metadata": {},
   "outputs": [],
   "source": [
    "session.shutdown()\n",
    "cluster.shutdown()"
   ]
  }
 ],
 "metadata": {
  "kernelspec": {
   "display_name": "Python 3",
   "language": "python",
   "name": "python3"
  },
  "language_info": {
   "codemirror_mode": {
    "name": "ipython",
    "version": 3
   },
   "file_extension": ".py",
   "mimetype": "text/x-python",
   "name": "python",
   "nbconvert_exporter": "python",
   "pygments_lexer": "ipython3",
   "version": "3.8.8"
  }
 },
 "nbformat": 4,
 "nbformat_minor": 5
}
